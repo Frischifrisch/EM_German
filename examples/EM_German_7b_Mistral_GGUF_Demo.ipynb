{
  "nbformat": 4,
  "nbformat_minor": 0,
  "metadata": {
    "colab": {
      "provenance": [],
      "gpuType": "T4"
    },
    "kernelspec": {
      "name": "python3",
      "display_name": "Python 3"
    },
    "language_info": {
      "name": "python"
    },
    "accelerator": "GPU",
    "widgets": {
      "application/vnd.jupyter.widget-state+json": {
        "aa07e850c82a45b7847d536086405941": {
          "model_module": "@jupyter-widgets/controls",
          "model_name": "HBoxModel",
          "model_module_version": "1.5.0",
          "state": {
            "_dom_classes": [],
            "_model_module": "@jupyter-widgets/controls",
            "_model_module_version": "1.5.0",
            "_model_name": "HBoxModel",
            "_view_count": null,
            "_view_module": "@jupyter-widgets/controls",
            "_view_module_version": "1.5.0",
            "_view_name": "HBoxView",
            "box_style": "",
            "children": [
              "IPY_MODEL_12225f24dabf4038bb9d3c303741c3f0",
              "IPY_MODEL_2e11a5215f224b9fb567885aa9333039",
              "IPY_MODEL_44287f4b203e4cd6a2b5f744e3b040f6"
            ],
            "layout": "IPY_MODEL_76521b9292e54fe6b17a079d6c82c9f8"
          }
        },
        "12225f24dabf4038bb9d3c303741c3f0": {
          "model_module": "@jupyter-widgets/controls",
          "model_name": "HTMLModel",
          "model_module_version": "1.5.0",
          "state": {
            "_dom_classes": [],
            "_model_module": "@jupyter-widgets/controls",
            "_model_module_version": "1.5.0",
            "_model_name": "HTMLModel",
            "_view_count": null,
            "_view_module": "@jupyter-widgets/controls",
            "_view_module_version": "1.5.0",
            "_view_name": "HTMLView",
            "description": "",
            "description_tooltip": null,
            "layout": "IPY_MODEL_815c4a3cce3945c784567025837a3df4",
            "placeholder": "​",
            "style": "IPY_MODEL_6a1fa56e0fa7457b98c7dfebfa988217",
            "value": "Downloading (…)istral_v01.Q8_0.gguf: 100%"
          }
        },
        "2e11a5215f224b9fb567885aa9333039": {
          "model_module": "@jupyter-widgets/controls",
          "model_name": "FloatProgressModel",
          "model_module_version": "1.5.0",
          "state": {
            "_dom_classes": [],
            "_model_module": "@jupyter-widgets/controls",
            "_model_module_version": "1.5.0",
            "_model_name": "FloatProgressModel",
            "_view_count": null,
            "_view_module": "@jupyter-widgets/controls",
            "_view_module_version": "1.5.0",
            "_view_name": "ProgressView",
            "bar_style": "success",
            "description": "",
            "description_tooltip": null,
            "layout": "IPY_MODEL_df817af174294b14b34fe2a8a6cdeaa6",
            "max": 7695857280,
            "min": 0,
            "orientation": "horizontal",
            "style": "IPY_MODEL_6f4a1d2d88554400a182a3234ac28bcc",
            "value": 7695857280
          }
        },
        "44287f4b203e4cd6a2b5f744e3b040f6": {
          "model_module": "@jupyter-widgets/controls",
          "model_name": "HTMLModel",
          "model_module_version": "1.5.0",
          "state": {
            "_dom_classes": [],
            "_model_module": "@jupyter-widgets/controls",
            "_model_module_version": "1.5.0",
            "_model_name": "HTMLModel",
            "_view_count": null,
            "_view_module": "@jupyter-widgets/controls",
            "_view_module_version": "1.5.0",
            "_view_name": "HTMLView",
            "description": "",
            "description_tooltip": null,
            "layout": "IPY_MODEL_9778ebba28f44df9869fe63b8a53149d",
            "placeholder": "​",
            "style": "IPY_MODEL_81f0d3d909214219ba6e49166afcfcc2",
            "value": " 7.70G/7.70G [03:03&lt;00:00, 47.4MB/s]"
          }
        },
        "76521b9292e54fe6b17a079d6c82c9f8": {
          "model_module": "@jupyter-widgets/base",
          "model_name": "LayoutModel",
          "model_module_version": "1.2.0",
          "state": {
            "_model_module": "@jupyter-widgets/base",
            "_model_module_version": "1.2.0",
            "_model_name": "LayoutModel",
            "_view_count": null,
            "_view_module": "@jupyter-widgets/base",
            "_view_module_version": "1.2.0",
            "_view_name": "LayoutView",
            "align_content": null,
            "align_items": null,
            "align_self": null,
            "border": null,
            "bottom": null,
            "display": null,
            "flex": null,
            "flex_flow": null,
            "grid_area": null,
            "grid_auto_columns": null,
            "grid_auto_flow": null,
            "grid_auto_rows": null,
            "grid_column": null,
            "grid_gap": null,
            "grid_row": null,
            "grid_template_areas": null,
            "grid_template_columns": null,
            "grid_template_rows": null,
            "height": null,
            "justify_content": null,
            "justify_items": null,
            "left": null,
            "margin": null,
            "max_height": null,
            "max_width": null,
            "min_height": null,
            "min_width": null,
            "object_fit": null,
            "object_position": null,
            "order": null,
            "overflow": null,
            "overflow_x": null,
            "overflow_y": null,
            "padding": null,
            "right": null,
            "top": null,
            "visibility": null,
            "width": null
          }
        },
        "815c4a3cce3945c784567025837a3df4": {
          "model_module": "@jupyter-widgets/base",
          "model_name": "LayoutModel",
          "model_module_version": "1.2.0",
          "state": {
            "_model_module": "@jupyter-widgets/base",
            "_model_module_version": "1.2.0",
            "_model_name": "LayoutModel",
            "_view_count": null,
            "_view_module": "@jupyter-widgets/base",
            "_view_module_version": "1.2.0",
            "_view_name": "LayoutView",
            "align_content": null,
            "align_items": null,
            "align_self": null,
            "border": null,
            "bottom": null,
            "display": null,
            "flex": null,
            "flex_flow": null,
            "grid_area": null,
            "grid_auto_columns": null,
            "grid_auto_flow": null,
            "grid_auto_rows": null,
            "grid_column": null,
            "grid_gap": null,
            "grid_row": null,
            "grid_template_areas": null,
            "grid_template_columns": null,
            "grid_template_rows": null,
            "height": null,
            "justify_content": null,
            "justify_items": null,
            "left": null,
            "margin": null,
            "max_height": null,
            "max_width": null,
            "min_height": null,
            "min_width": null,
            "object_fit": null,
            "object_position": null,
            "order": null,
            "overflow": null,
            "overflow_x": null,
            "overflow_y": null,
            "padding": null,
            "right": null,
            "top": null,
            "visibility": null,
            "width": null
          }
        },
        "6a1fa56e0fa7457b98c7dfebfa988217": {
          "model_module": "@jupyter-widgets/controls",
          "model_name": "DescriptionStyleModel",
          "model_module_version": "1.5.0",
          "state": {
            "_model_module": "@jupyter-widgets/controls",
            "_model_module_version": "1.5.0",
            "_model_name": "DescriptionStyleModel",
            "_view_count": null,
            "_view_module": "@jupyter-widgets/base",
            "_view_module_version": "1.2.0",
            "_view_name": "StyleView",
            "description_width": ""
          }
        },
        "df817af174294b14b34fe2a8a6cdeaa6": {
          "model_module": "@jupyter-widgets/base",
          "model_name": "LayoutModel",
          "model_module_version": "1.2.0",
          "state": {
            "_model_module": "@jupyter-widgets/base",
            "_model_module_version": "1.2.0",
            "_model_name": "LayoutModel",
            "_view_count": null,
            "_view_module": "@jupyter-widgets/base",
            "_view_module_version": "1.2.0",
            "_view_name": "LayoutView",
            "align_content": null,
            "align_items": null,
            "align_self": null,
            "border": null,
            "bottom": null,
            "display": null,
            "flex": null,
            "flex_flow": null,
            "grid_area": null,
            "grid_auto_columns": null,
            "grid_auto_flow": null,
            "grid_auto_rows": null,
            "grid_column": null,
            "grid_gap": null,
            "grid_row": null,
            "grid_template_areas": null,
            "grid_template_columns": null,
            "grid_template_rows": null,
            "height": null,
            "justify_content": null,
            "justify_items": null,
            "left": null,
            "margin": null,
            "max_height": null,
            "max_width": null,
            "min_height": null,
            "min_width": null,
            "object_fit": null,
            "object_position": null,
            "order": null,
            "overflow": null,
            "overflow_x": null,
            "overflow_y": null,
            "padding": null,
            "right": null,
            "top": null,
            "visibility": null,
            "width": null
          }
        },
        "6f4a1d2d88554400a182a3234ac28bcc": {
          "model_module": "@jupyter-widgets/controls",
          "model_name": "ProgressStyleModel",
          "model_module_version": "1.5.0",
          "state": {
            "_model_module": "@jupyter-widgets/controls",
            "_model_module_version": "1.5.0",
            "_model_name": "ProgressStyleModel",
            "_view_count": null,
            "_view_module": "@jupyter-widgets/base",
            "_view_module_version": "1.2.0",
            "_view_name": "StyleView",
            "bar_color": null,
            "description_width": ""
          }
        },
        "9778ebba28f44df9869fe63b8a53149d": {
          "model_module": "@jupyter-widgets/base",
          "model_name": "LayoutModel",
          "model_module_version": "1.2.0",
          "state": {
            "_model_module": "@jupyter-widgets/base",
            "_model_module_version": "1.2.0",
            "_model_name": "LayoutModel",
            "_view_count": null,
            "_view_module": "@jupyter-widgets/base",
            "_view_module_version": "1.2.0",
            "_view_name": "LayoutView",
            "align_content": null,
            "align_items": null,
            "align_self": null,
            "border": null,
            "bottom": null,
            "display": null,
            "flex": null,
            "flex_flow": null,
            "grid_area": null,
            "grid_auto_columns": null,
            "grid_auto_flow": null,
            "grid_auto_rows": null,
            "grid_column": null,
            "grid_gap": null,
            "grid_row": null,
            "grid_template_areas": null,
            "grid_template_columns": null,
            "grid_template_rows": null,
            "height": null,
            "justify_content": null,
            "justify_items": null,
            "left": null,
            "margin": null,
            "max_height": null,
            "max_width": null,
            "min_height": null,
            "min_width": null,
            "object_fit": null,
            "object_position": null,
            "order": null,
            "overflow": null,
            "overflow_x": null,
            "overflow_y": null,
            "padding": null,
            "right": null,
            "top": null,
            "visibility": null,
            "width": null
          }
        },
        "81f0d3d909214219ba6e49166afcfcc2": {
          "model_module": "@jupyter-widgets/controls",
          "model_name": "DescriptionStyleModel",
          "model_module_version": "1.5.0",
          "state": {
            "_model_module": "@jupyter-widgets/controls",
            "_model_module_version": "1.5.0",
            "_model_name": "DescriptionStyleModel",
            "_view_count": null,
            "_view_module": "@jupyter-widgets/base",
            "_view_module_version": "1.2.0",
            "_view_name": "StyleView",
            "description_width": ""
          }
        }
      }
    }
  },
  "cells": [
    {
      "cell_type": "markdown",
      "source": [
        "![EM German Logo](https://github.com/jphme/EM_German/blob/main/em_model_logo_web.jpeg?raw=true)\n",
        "# EM German Mistral GGUF Demo\n",
        "Please visit the [Github Repository](https://github.com/jphme/EM_German) for all model resources and if you have questions or feedback!"
      ],
      "metadata": {
        "id": "7evFtpSmB8gN"
      }
    },
    {
      "cell_type": "code",
      "execution_count": null,
      "metadata": {
        "id": "GzORJDlF4irg"
      },
      "outputs": [],
      "source": [
        "!CMAKE_ARGS=\"-DLLAMA_CUBLAS=on\" pip install llama-cpp-python"
      ]
    },
    {
      "cell_type": "code",
      "source": [
        "!pip install huggingface_hub"
      ],
      "metadata": {
        "id": "0Z9e4r344-lF"
      },
      "execution_count": null,
      "outputs": []
    },
    {
      "cell_type": "code",
      "source": [
        "from llama_cpp import Llama\n",
        "from huggingface_hub import hf_hub_download"
      ],
      "metadata": {
        "id": "PK2Ie_K9C6zq"
      },
      "execution_count": 3,
      "outputs": []
    },
    {
      "cell_type": "code",
      "source": [
        "modelpath=hf_hub_download(repo_id='TheBloke/em_german_mistral_v01-GGUF', filename=\"em_german_mistral_v01.Q8_0.gguf\")"
      ],
      "metadata": {
        "colab": {
          "base_uri": "https://localhost:8080/",
          "height": 49,
          "referenced_widgets": [
            "aa07e850c82a45b7847d536086405941",
            "12225f24dabf4038bb9d3c303741c3f0",
            "2e11a5215f224b9fb567885aa9333039",
            "44287f4b203e4cd6a2b5f744e3b040f6",
            "76521b9292e54fe6b17a079d6c82c9f8",
            "815c4a3cce3945c784567025837a3df4",
            "6a1fa56e0fa7457b98c7dfebfa988217",
            "df817af174294b14b34fe2a8a6cdeaa6",
            "6f4a1d2d88554400a182a3234ac28bcc",
            "9778ebba28f44df9869fe63b8a53149d",
            "81f0d3d909214219ba6e49166afcfcc2"
          ]
        },
        "id": "FbM2gWY9DdD6",
        "outputId": "d3b77b5e-5a3f-4072-af7c-e6c14c85bb47"
      },
      "execution_count": 4,
      "outputs": [
        {
          "output_type": "display_data",
          "data": {
            "text/plain": [
              "Downloading (…)istral_v01.Q8_0.gguf:   0%|          | 0.00/7.70G [00:00<?, ?B/s]"
            ],
            "application/vnd.jupyter.widget-view+json": {
              "version_major": 2,
              "version_minor": 0,
              "model_id": "aa07e850c82a45b7847d536086405941"
            }
          },
          "metadata": {}
        }
      ]
    },
    {
      "cell_type": "code",
      "source": [
        "llm = Llama(\n",
        "      model_path=modelpath,\n",
        "      n_ctx=2048,\n",
        "      n_batch=1024,\n",
        "      n_gpu_layers=-1,\n",
        "      #verbose=False\n",
        "      )"
      ],
      "metadata": {
        "colab": {
          "base_uri": "https://localhost:8080/"
        },
        "id": "jyn-N4cq5eOz",
        "outputId": "274f29be-46bd-41e2-8f86-cb86c7477476"
      },
      "execution_count": 5,
      "outputs": [
        {
          "output_type": "stream",
          "name": "stderr",
          "text": [
            "AVX = 1 | AVX2 = 1 | AVX512 = 0 | AVX512_VBMI = 0 | AVX512_VNNI = 0 | FMA = 1 | NEON = 0 | ARM_FMA = 0 | F16C = 1 | FP16_VA = 0 | WASM_SIMD = 0 | BLAS = 1 | SSE3 = 1 | SSSE3 = 1 | VSX = 0 | \n"
          ]
        }
      ]
    },
    {
      "cell_type": "code",
      "source": [
        "instruction=\"Nenne 5 Unternehmen aus dem DAX!\"\n",
        "output=llm(\n",
        "    f\"Du bist ein hilfreicher Assistent. USER: {instruction} ASSISTANT:\",\n",
        "    max_tokens=500,\n",
        "    temperature=0.6)\n",
        "print(output['choices'][0]['text'])"
      ],
      "metadata": {
        "colab": {
          "base_uri": "https://localhost:8080/"
        },
        "id": "7JemVZgOGix4",
        "outputId": "ff7faf1b-8c6c-4d7d-c36e-2416ca7d97a0"
      },
      "execution_count": 13,
      "outputs": [
        {
          "output_type": "stream",
          "name": "stderr",
          "text": [
            "Llama.generate: prefix-match hit\n"
          ]
        },
        {
          "output_type": "stream",
          "name": "stdout",
          "text": [
            " Der DAX ist eine Liste der 30 größten und liquidesten Unternehmen an der Frankfurter Börse. Hier sind fünf davon:\n",
            "\n",
            "1. Deutsche Telekom AG - Ein international tätiger deutscher Mobilfunk- und Telekommunikationsanbieter mit Hauptsitz in Bonn.\n",
            "\n",
            "2. SAP SE - Weltweit führender Anbieter von Geschäftssoftware, der seinen Sitz in Walldorf hat.\n",
            "\n",
            "3. BASF SE - Ein global tätiger deutscher Chemie- und Produktionskonzern mit Hauptsitz in Ludwigshafen am Rhein.\n",
            "\n",
            "4. Bayer AG - Eine weltweit führende Life-Science-Unternehmensgruppe, die ihren Sitz in Leverkusen hat.\n",
            "\n",
            "5. Volkswagen AG - Ein automobilherstellender Konzern mit Hauptsitz in Wolfsburg und einer globalen Präsenz.\n"
          ]
        }
      ]
    },
    {
      "cell_type": "code",
      "source": [],
      "metadata": {
        "id": "7P_JSvMhKFfr"
      },
      "execution_count": null,
      "outputs": []
    },
    {
      "cell_type": "markdown",
      "source": [
        "# Grammar - Structured Output Demo"
      ],
      "metadata": {
        "id": "ZWDFI64hKAvb"
      }
    },
    {
      "cell_type": "code",
      "source": [
        "import json\n",
        "from llama_cpp import LlamaGrammar"
      ],
      "metadata": {
        "id": "nyaQBJCTGim4"
      },
      "execution_count": 6,
      "outputs": []
    },
    {
      "cell_type": "code",
      "source": [
        "schema={\n",
        "  'type': 'object',\n",
        "  'properties': {\n",
        "    'name': {'type': 'string'},\n",
        "    'ort': {'type': 'string'},\n",
        "    'jahr': {'type': 'integer'}},\n",
        "  'required': ['name', 'ort', 'jahr'],\n",
        "}\n",
        "\n",
        "with open('json_schema.txt','w') as file:\n",
        "    json.dump(schema, file)"
      ],
      "metadata": {
        "id": "RakPOD_aJ2Yj"
      },
      "execution_count": 7,
      "outputs": []
    },
    {
      "cell_type": "code",
      "source": [
        "!wget https://raw.githubusercontent.com/ggerganov/llama.cpp/master/examples/json-schema-to-grammar.py"
      ],
      "metadata": {
        "id": "pi5aWpPWF4sq"
      },
      "execution_count": null,
      "outputs": []
    },
    {
      "cell_type": "code",
      "source": [
        "!python json-schema-to-grammar.py json_schema.txt > json_grammar.gbnf"
      ],
      "metadata": {
        "id": "Ji8RHMrbACQx"
      },
      "execution_count": 9,
      "outputs": []
    },
    {
      "cell_type": "code",
      "source": [
        "grammar=LlamaGrammar.from_file('json_grammar.gbnf')"
      ],
      "metadata": {
        "colab": {
          "base_uri": "https://localhost:8080/"
        },
        "id": "0hT_4t76KTBn",
        "outputId": "b91fdfc1-a3f7-4ce5-feb0-15ff604f0c4d"
      },
      "execution_count": 10,
      "outputs": [
        {
          "output_type": "stream",
          "name": "stdout",
          "text": [
            "space ::= space_1 \n",
            "space_1 ::= [ ] | \n",
            "integer ::= integer_3 space \n",
            "integer_3 ::= integer_4 integer_5 \n",
            "integer_4 ::= [-] | \n",
            "integer_5 ::= [0-9] | [1-9] integer_6 \n",
            "integer_6 ::= [0-9] integer_6 | \n",
            "string ::= [\"] string_10 [\"] space \n",
            "string_8 ::= [^\"\\] | [\\] string_9 \n",
            "string_9 ::= [\"\\/bfnrt] | [u] [0-9a-fA-F] [0-9a-fA-F] [0-9a-fA-F] [0-9a-fA-F] \n",
            "string_10 ::= string_8 string_10 | \n",
            "root ::= [{] space [\"] [j] [a] [h] [r] [\"] space [:] space integer [,] space [\"] [n] [a] [m] [e] [\"] space [:] space string [,] space [\"] [o] [r] [t] [\"] space [:] space string [}] space \n"
          ]
        },
        {
          "output_type": "stream",
          "name": "stderr",
          "text": [
            "from_string grammar:\n",
            "\n"
          ]
        }
      ]
    },
    {
      "cell_type": "code",
      "source": [
        "instruction=\"Max ging im Jahr, als die Corona-Krise startete, in die Stadt mit dem Eiffelturm.\"\n",
        "output=llm(\n",
        "    f\"Bitte gebe gültiges JSON aus. USER: {instruction} ASSISTANT:\",\n",
        "    max_tokens=200,\n",
        "    temperature=0.3,\n",
        "    grammar=grammar)\n",
        "json.loads(output['choices'][0]['text'])"
      ],
      "metadata": {
        "colab": {
          "base_uri": "https://localhost:8080/"
        },
        "id": "Fx-NNQx_Kdwm",
        "outputId": "b9c095b3-6b14-44fb-f051-31551854ea22"
      },
      "execution_count": 11,
      "outputs": [
        {
          "output_type": "execute_result",
          "data": {
            "text/plain": [
              "{'jahr': 2020, 'name': 'Max', 'ort': 'Paris'}"
            ]
          },
          "metadata": {},
          "execution_count": 11
        }
      ]
    },
    {
      "cell_type": "code",
      "source": [],
      "metadata": {
        "id": "uABWCraYGkAs"
      },
      "execution_count": null,
      "outputs": []
    }
  ]
}